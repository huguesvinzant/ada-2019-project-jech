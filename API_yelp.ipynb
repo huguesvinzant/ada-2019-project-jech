{
 "cells": [
  {
   "cell_type": "markdown",
   "metadata": {},
   "source": [
    "# <font size=\"10\"><p style=\"text-align: center;color:#2a4b8d\">Yelp API</font>"
   ]
  },
  {
   "cell_type": "code",
   "execution_count": 21,
   "metadata": {},
   "outputs": [],
   "source": [
    "import pandas as pd\n",
    "import numpy as np\n",
    "import warnings\n",
    "warnings.filterwarnings('ignore')"
   ]
  },
  {
   "cell_type": "markdown",
   "metadata": {},
   "source": [
    "This notebook is the one that had been used to scrapp the data from Yelp. As explained in our main notebook 'Descriptive Analysis', we wanted to add to our dataset the rates of the restaurants on the Yelp website. To be able to do this, Yelp provides an API which enables us to query the dataset.\n",
    "\n",
    "The following text is a copy/paste of what the one written on the 'Descriptive Analysis' notebook regarding the way we scrapped the data:"
   ]
  },
  {
   "cell_type": "markdown",
   "metadata": {},
   "source": [
    "Yelp.com is a website that helps people find great local businesses such as restaurants based on customer reviews. Each business has a page where visitors can write comments and add a general grade reflecting their experience there. The Yelp fusion API enables us to access relevant information on restaurants such as their rating and their respective number of reviews. When trying to scrap the data, we first encountered an issue of how to uniquely identify each restaurant. Indeed, the Yelp API enables us to pass as an argument the latitude and longitude of all places we want to query. We initially thought that this will enable us to find the right businesses. However, the Yelp coordinates do not match exactly the ones of our dataset. Thus, quering by latitude/longitude didn't give us the right business (we generally obtained restaurants, which were closed to the one in which we were interested).\n",
    "\n",
    "Therefore, we had to come up with another way to query our dataset. By looking at the API documentation on Yelp Fusion website, we found another function, called business_match_query, which enables us to give as argument the name and complete address of every restaurant. Trying this function on a few cases showed us that by doing this \"cross-research\", taking into account several pieces of information on the businesses, we obtain the right results. However, one disadvantage of this function is that the business_match_query doesn't enable us to access directly the Yelp reviews. But it gives us the Yelp ID, which is a unique identifier on Yelp website for a business. As a next step, we can use the requests package to access the reviews by giving it as an argument the Yelp ID.\n",
    "\n",
    "This way, we were able to obtain the right results. One disadvantage of this method is the fact that we need to query the dataset twice. First to obtain the Yelp ID via the business_match_query function, and secondly to obtain the reviews using the ID. For this reason, we haven't queried our whole dataset yet. We should be able to have the full dataset ready before Wednesday (as Yelp restricts us to 5'000 queries per day).\n",
    "\n",
    "For the code of the scrapping, please refer to the file called API_yelp. In this file, we simply implemented the procedure explained above. Every day, we scrapped 2'500 rows of our dataset, then saved it as a csv file, and re-open this file the next day to continue the scrapping and so on (of course, we made some copies of it during the procedure to make sure to not lose any information)."
   ]
  },
  {
   "cell_type": "markdown",
   "metadata": {},
   "source": [
    "Note: First, we had to obtain a private key to be able to acces the Yelp API."
   ]
  },
  {
   "cell_type": "code",
   "execution_count": 2,
   "metadata": {},
   "outputs": [],
   "source": [
    "#This if the private key that we obtained \n",
    "API_key = 'B51wnmtnL30svioyDrNUrhl4h7We2HR8i-DQgKUNPsbVsiruZAItOeM6IHC8e5Y72G-d9TjHZFQHtKJjBrSCWCF0gLTvDlfr9u7bKce5jClTMT4ua-m0dtzxI6q1XXYx'"
   ]
  },
  {
   "cell_type": "code",
   "execution_count": 3,
   "metadata": {},
   "outputs": [],
   "source": [
    "from yelpapi import YelpAPI #Yelp Api package, might need to be install on your compute first\n",
    "import argparse\n",
    "from pprint import pprint\n",
    "#see help code https://github.com/gfairchild/yelpapi/blob/master/examples/examples.py"
   ]
  },
  {
   "cell_type": "code",
   "execution_count": 4,
   "metadata": {},
   "outputs": [],
   "source": [
    "import requests\n",
    "import json\n",
    "headers = {'Authorization': 'Bearer %s' % API_key}"
   ]
  },
  {
   "cell_type": "code",
   "execution_count": 5,
   "metadata": {},
   "outputs": [],
   "source": [
    "yelp_api = YelpAPI(API_key)"
   ]
  },
  {
   "cell_type": "code",
   "execution_count": 6,
   "metadata": {},
   "outputs": [
    {
     "name": "stdout",
     "output_type": "stream",
     "text": [
      "Hello, what's the day of scrapping (day count start at 0) ?1\n"
     ]
    }
   ],
   "source": [
    "day = int(input(\"Hello, what's the day of scrapping (day count start at 0) ?\")) #day of scrapping"
   ]
  },
  {
   "cell_type": "code",
   "execution_count": null,
   "metadata": {},
   "outputs": [],
   "source": [
    "if day==0: #If this is the first day of scrapping, we open the clean dataset\n",
    "    data = pd.read_csv('data/chicago-food-inspections/cfi_recent.csv')\n",
    "else: #Else, we open the previously scrapped dataset\n",
    "    data = pd.read_csv('data/chicago-food-inspections/food-inspections_scrapped'+str(day-1)+'.csv')"
   ]
  },
  {
   "cell_type": "code",
   "execution_count": 9,
   "metadata": {},
   "outputs": [
    {
     "data": {
      "text/html": [
       "<div>\n",
       "<style scoped>\n",
       "    .dataframe tbody tr th:only-of-type {\n",
       "        vertical-align: middle;\n",
       "    }\n",
       "\n",
       "    .dataframe tbody tr th {\n",
       "        vertical-align: top;\n",
       "    }\n",
       "\n",
       "    .dataframe thead th {\n",
       "        text-align: right;\n",
       "    }\n",
       "</style>\n",
       "<table border=\"1\" class=\"dataframe\">\n",
       "  <thead>\n",
       "    <tr style=\"text-align: right;\">\n",
       "      <th></th>\n",
       "      <th>Unnamed: 0</th>\n",
       "      <th>index</th>\n",
       "      <th>License #</th>\n",
       "      <th>Inspection ID</th>\n",
       "      <th>DBA Name</th>\n",
       "      <th>Facility Type</th>\n",
       "      <th>Risk</th>\n",
       "      <th>Address</th>\n",
       "      <th>City</th>\n",
       "      <th>State</th>\n",
       "      <th>...</th>\n",
       "      <th>Inspection Type</th>\n",
       "      <th>Results</th>\n",
       "      <th>Violations</th>\n",
       "      <th>Latitude</th>\n",
       "      <th>Longitude</th>\n",
       "      <th>Last Inspection Year</th>\n",
       "      <th>Chain</th>\n",
       "      <th>Yelp name</th>\n",
       "      <th>Yelp review count</th>\n",
       "      <th>Yelp rating</th>\n",
       "    </tr>\n",
       "  </thead>\n",
       "  <tbody>\n",
       "    <tr>\n",
       "      <td>0</td>\n",
       "      <td>0</td>\n",
       "      <td>0</td>\n",
       "      <td>2.0</td>\n",
       "      <td>[2144871, 2050308, 1977093, 1970902, 1970312, ...</td>\n",
       "      <td>cosi</td>\n",
       "      <td>Restaurant</td>\n",
       "      <td>1.0</td>\n",
       "      <td>230 W MONROE ST</td>\n",
       "      <td>CHICAGO</td>\n",
       "      <td>IL</td>\n",
       "      <td>...</td>\n",
       "      <td>['Canvass', 'Canvass', 'Short Form Complaint',...</td>\n",
       "      <td>['Pass w/ Conditions', 'Pass', 'Pass w/ Condit...</td>\n",
       "      <td>['3. POTENTIALLY HAZARDOUS FOOD MEETS TEMPERAT...</td>\n",
       "      <td>41.880757158647214</td>\n",
       "      <td>-87.6347092983425</td>\n",
       "      <td>2018</td>\n",
       "      <td>NaN</td>\n",
       "      <td>Cosi</td>\n",
       "      <td>70.0</td>\n",
       "      <td>3.0</td>\n",
       "    </tr>\n",
       "    <tr>\n",
       "      <td>1</td>\n",
       "      <td>1</td>\n",
       "      <td>1</td>\n",
       "      <td>9.0</td>\n",
       "      <td>[2304407, 2181605, 2181227, 2050713, 1975322, ...</td>\n",
       "      <td>xando coffee &amp; bar / cosi sandwich bar</td>\n",
       "      <td>Restaurant</td>\n",
       "      <td>1.0</td>\n",
       "      <td>116 S MICHIGAN AVE</td>\n",
       "      <td>CHICAGO</td>\n",
       "      <td>IL</td>\n",
       "      <td>...</td>\n",
       "      <td>['Canvass', 'Canvass Re-Inspection', 'Canvass'...</td>\n",
       "      <td>['Pass w/ Conditions', 'Pass', 'Fail', 'Pass',...</td>\n",
       "      <td>[\"1. PERSON IN CHARGE PRESENT, DEMONSTRATES KN...</td>\n",
       "      <td>41.880395838259616</td>\n",
       "      <td>-87.62450172159464</td>\n",
       "      <td>2019</td>\n",
       "      <td>NaN</td>\n",
       "      <td>NaN</td>\n",
       "      <td>NaN</td>\n",
       "      <td>NaN</td>\n",
       "    </tr>\n",
       "  </tbody>\n",
       "</table>\n",
       "<p>2 rows × 22 columns</p>\n",
       "</div>"
      ],
      "text/plain": [
       "   Unnamed: 0  index  License #  \\\n",
       "0           0      0        2.0   \n",
       "1           1      1        9.0   \n",
       "\n",
       "                                       Inspection ID  \\\n",
       "0  [2144871, 2050308, 1977093, 1970902, 1970312, ...   \n",
       "1  [2304407, 2181605, 2181227, 2050713, 1975322, ...   \n",
       "\n",
       "                                 DBA Name Facility Type Risk  \\\n",
       "0                                    cosi    Restaurant  1.0   \n",
       "1  xando coffee & bar / cosi sandwich bar    Restaurant  1.0   \n",
       "\n",
       "               Address     City State  ...  \\\n",
       "0     230 W MONROE ST   CHICAGO    IL  ...   \n",
       "1  116 S MICHIGAN AVE   CHICAGO    IL  ...   \n",
       "\n",
       "                                     Inspection Type  \\\n",
       "0  ['Canvass', 'Canvass', 'Short Form Complaint',...   \n",
       "1  ['Canvass', 'Canvass Re-Inspection', 'Canvass'...   \n",
       "\n",
       "                                             Results  \\\n",
       "0  ['Pass w/ Conditions', 'Pass', 'Pass w/ Condit...   \n",
       "1  ['Pass w/ Conditions', 'Pass', 'Fail', 'Pass',...   \n",
       "\n",
       "                                          Violations            Latitude  \\\n",
       "0  ['3. POTENTIALLY HAZARDOUS FOOD MEETS TEMPERAT...  41.880757158647214   \n",
       "1  [\"1. PERSON IN CHARGE PRESENT, DEMONSTRATES KN...  41.880395838259616   \n",
       "\n",
       "            Longitude Last Inspection Year Chain  Yelp name Yelp review count  \\\n",
       "0   -87.6347092983425                 2018   NaN       Cosi              70.0   \n",
       "1  -87.62450172159464                 2019   NaN        NaN               NaN   \n",
       "\n",
       "  Yelp rating  \n",
       "0         3.0  \n",
       "1         NaN  \n",
       "\n",
       "[2 rows x 22 columns]"
      ]
     },
     "execution_count": 9,
     "metadata": {},
     "output_type": "execute_result"
    }
   ],
   "source": [
    "data.head(2)"
   ]
  },
  {
   "cell_type": "markdown",
   "metadata": {},
   "source": [
    "Note: We have a bit almost 13'000 rows in our clean dataset, as Yelp API restrict us to 5'000 queries per day and knowing the fact that each rows requires 2 queries, we divided the number of rows by 6, and scrapped the whole dataset in 6 days."
   ]
  },
  {
   "cell_type": "code",
   "execution_count": 27,
   "metadata": {},
   "outputs": [],
   "source": [
    "n_days = 6 #Total number of days required\n",
    "scrapping_per_day = int(data.shape[0]/n_days) #Number of rows to scrapp\n",
    "if day == 5:\n",
    "    scrapping_per_day = scrapping_per_day + 3 #As the scrapping number is not an interger, we need to add 3 to obtain a complete scrapping"
   ]
  },
  {
   "cell_type": "code",
   "execution_count": 29,
   "metadata": {},
   "outputs": [
    {
     "data": {
      "text/html": [
       "<div>\n",
       "<style scoped>\n",
       "    .dataframe tbody tr th:only-of-type {\n",
       "        vertical-align: middle;\n",
       "    }\n",
       "\n",
       "    .dataframe tbody tr th {\n",
       "        vertical-align: top;\n",
       "    }\n",
       "\n",
       "    .dataframe thead th {\n",
       "        text-align: right;\n",
       "    }\n",
       "</style>\n",
       "<table border=\"1\" class=\"dataframe\">\n",
       "  <thead>\n",
       "    <tr style=\"text-align: right;\">\n",
       "      <th></th>\n",
       "      <th>Unnamed: 0</th>\n",
       "      <th>index</th>\n",
       "      <th>License #</th>\n",
       "      <th>Inspection ID</th>\n",
       "      <th>DBA Name</th>\n",
       "      <th>Facility Type</th>\n",
       "      <th>Risk</th>\n",
       "      <th>Address</th>\n",
       "      <th>City</th>\n",
       "      <th>State</th>\n",
       "      <th>...</th>\n",
       "      <th>Inspection Type</th>\n",
       "      <th>Results</th>\n",
       "      <th>Violations</th>\n",
       "      <th>Latitude</th>\n",
       "      <th>Longitude</th>\n",
       "      <th>Last Inspection Year</th>\n",
       "      <th>Chain</th>\n",
       "      <th>Yelp name</th>\n",
       "      <th>Yelp review count</th>\n",
       "      <th>Yelp rating</th>\n",
       "    </tr>\n",
       "  </thead>\n",
       "  <tbody>\n",
       "    <tr>\n",
       "      <td>0</td>\n",
       "      <td>0</td>\n",
       "      <td>0</td>\n",
       "      <td>2.0</td>\n",
       "      <td>[2144871, 2050308, 1977093, 1970902, 1970312, ...</td>\n",
       "      <td>cosi</td>\n",
       "      <td>Restaurant</td>\n",
       "      <td>1.0</td>\n",
       "      <td>230 W MONROE ST</td>\n",
       "      <td>CHICAGO</td>\n",
       "      <td>IL</td>\n",
       "      <td>...</td>\n",
       "      <td>['Canvass', 'Canvass', 'Short Form Complaint',...</td>\n",
       "      <td>['Pass w/ Conditions', 'Pass', 'Pass w/ Condit...</td>\n",
       "      <td>['3. POTENTIALLY HAZARDOUS FOOD MEETS TEMPERAT...</td>\n",
       "      <td>41.880757158647214</td>\n",
       "      <td>-87.6347092983425</td>\n",
       "      <td>2018</td>\n",
       "      <td>NaN</td>\n",
       "      <td>Cosi</td>\n",
       "      <td>70.0</td>\n",
       "      <td>3.0</td>\n",
       "    </tr>\n",
       "    <tr>\n",
       "      <td>1</td>\n",
       "      <td>1</td>\n",
       "      <td>1</td>\n",
       "      <td>9.0</td>\n",
       "      <td>[2304407, 2181605, 2181227, 2050713, 1975322, ...</td>\n",
       "      <td>xando coffee &amp; bar / cosi sandwich bar</td>\n",
       "      <td>Restaurant</td>\n",
       "      <td>1.0</td>\n",
       "      <td>116 S MICHIGAN AVE</td>\n",
       "      <td>CHICAGO</td>\n",
       "      <td>IL</td>\n",
       "      <td>...</td>\n",
       "      <td>['Canvass', 'Canvass Re-Inspection', 'Canvass'...</td>\n",
       "      <td>['Pass w/ Conditions', 'Pass', 'Fail', 'Pass',...</td>\n",
       "      <td>[\"1. PERSON IN CHARGE PRESENT, DEMONSTRATES KN...</td>\n",
       "      <td>41.880395838259616</td>\n",
       "      <td>-87.62450172159464</td>\n",
       "      <td>2019</td>\n",
       "      <td>NaN</td>\n",
       "      <td>NaN</td>\n",
       "      <td>NaN</td>\n",
       "      <td>NaN</td>\n",
       "    </tr>\n",
       "  </tbody>\n",
       "</table>\n",
       "<p>2 rows × 22 columns</p>\n",
       "</div>"
      ],
      "text/plain": [
       "   Unnamed: 0  index  License #  \\\n",
       "0           0      0        2.0   \n",
       "1           1      1        9.0   \n",
       "\n",
       "                                       Inspection ID  \\\n",
       "0  [2144871, 2050308, 1977093, 1970902, 1970312, ...   \n",
       "1  [2304407, 2181605, 2181227, 2050713, 1975322, ...   \n",
       "\n",
       "                                 DBA Name Facility Type Risk  \\\n",
       "0                                    cosi    Restaurant  1.0   \n",
       "1  xando coffee & bar / cosi sandwich bar    Restaurant  1.0   \n",
       "\n",
       "               Address     City State  ...  \\\n",
       "0     230 W MONROE ST   CHICAGO    IL  ...   \n",
       "1  116 S MICHIGAN AVE   CHICAGO    IL  ...   \n",
       "\n",
       "                                     Inspection Type  \\\n",
       "0  ['Canvass', 'Canvass', 'Short Form Complaint',...   \n",
       "1  ['Canvass', 'Canvass Re-Inspection', 'Canvass'...   \n",
       "\n",
       "                                             Results  \\\n",
       "0  ['Pass w/ Conditions', 'Pass', 'Pass w/ Condit...   \n",
       "1  ['Pass w/ Conditions', 'Pass', 'Fail', 'Pass',...   \n",
       "\n",
       "                                          Violations            Latitude  \\\n",
       "0  ['3. POTENTIALLY HAZARDOUS FOOD MEETS TEMPERAT...  41.880757158647214   \n",
       "1  [\"1. PERSON IN CHARGE PRESENT, DEMONSTRATES KN...  41.880395838259616   \n",
       "\n",
       "            Longitude Last Inspection Year Chain  Yelp name Yelp review count  \\\n",
       "0   -87.6347092983425                 2018   NaN       Cosi              70.0   \n",
       "1  -87.62450172159464                 2019   NaN        NaN               NaN   \n",
       "\n",
       "  Yelp rating  \n",
       "0         3.0  \n",
       "1         NaN  \n",
       "\n",
       "[2 rows x 22 columns]"
      ]
     },
     "execution_count": 29,
     "metadata": {},
     "output_type": "execute_result"
    }
   ],
   "source": [
    "start = scrapping_per_day*day #Starting row for the scrapping\n",
    "end = start + scrapping_per_day #Ending row for the scrapping\n",
    "if start == 0: #If this is the first time that we scrapped the data, we need to create the new columns, else, they are already there\n",
    "    data['Yelp name']=np.NaN\n",
    "    data['Yelp review count']=np.NaN\n",
    "    data['Yelp rating']=np.NaN\n",
    "data.head(2)"
   ]
  },
  {
   "cell_type": "code",
   "execution_count": 25,
   "metadata": {},
   "outputs": [],
   "source": [
    "for i in range(start,end):\n",
    "    temp = data.iloc[i]\n",
    "    #First part, we use the business_match_query to obtain the Yelp ID of the restaurant\n",
    "    #This function takes into account several arguments (notably name and full address) and enables us to obtain the\n",
    "    #Yelp ID of the business\n",
    "    response = yelp_api.business_match_query(name=temp['DBA Name'],\n",
    "                                             address1=temp['Address'],\n",
    "                                             city=temp['City'],\n",
    "                                             state=temp['State'],\n",
    "                                             country='US') \n",
    "    \n",
    "    #Second part, we use the Yelp ID to obtain the ratings and number of reviews\n",
    "    if len(response['businesses'])>0:\n",
    "        data['Yelp name'].iloc[i] = response['businesses'][0]['name'] #Yelp Name of the business\n",
    "        id_ =  response['businesses'][0]['id'] #Yelp ID\n",
    "        url = \"https://api.yelp.com/v3/businesses/\" + id_ \n",
    "        req = requests.get(url, headers=headers) #Access to the Yelp page of the business\n",
    "        #print('the status code is {}'.format(req.status_code))\n",
    "        parsed = json.loads(req.text)\n",
    "        data['Yelp rating'].iloc[i] = parsed['rating'] #Obtained the rating\n",
    "        data['Yelp review count'].iloc[i] = parsed['review_count'] #Obtain the number of reviews"
   ]
  },
  {
   "cell_type": "code",
   "execution_count": 20,
   "metadata": {},
   "outputs": [
    {
     "name": "stdout",
     "output_type": "stream",
     "text": [
      "Among the rows 0 and 5498 we scrapped 4486 restaurants.\n"
     ]
    }
   ],
   "source": [
    "print(\"Among the rows\", 0,\"and\", i,\"we scrapped\",i-np.count_nonzero(pd.isnull(data['Yelp name'][0:i])),\"restaurants.\")"
   ]
  },
  {
   "cell_type": "code",
   "execution_count": 17,
   "metadata": {},
   "outputs": [],
   "source": [
    "#Each day, we save the newly scrapped dataframe to a csv (so if an error occur at one point, we don't loose all the information from the previous days)\n",
    "data.to_csv(\"data/chicago-food-inspections/food-inspections_scrapped\"+str(day)+\".csv\")"
   ]
  },
  {
   "cell_type": "code",
   "execution_count": null,
   "metadata": {},
   "outputs": [],
   "source": []
  }
 ],
 "metadata": {
  "kernelspec": {
   "display_name": "Python 3",
   "language": "python",
   "name": "python3"
  },
  "language_info": {
   "codemirror_mode": {
    "name": "ipython",
    "version": 3
   },
   "file_extension": ".py",
   "mimetype": "text/x-python",
   "name": "python",
   "nbconvert_exporter": "python",
   "pygments_lexer": "ipython3",
   "version": "3.7.1"
  }
 },
 "nbformat": 4,
 "nbformat_minor": 2
}
