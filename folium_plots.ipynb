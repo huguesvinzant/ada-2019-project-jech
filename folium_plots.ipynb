{
 "cells": [
  {
   "cell_type": "code",
   "execution_count": 77,
   "metadata": {},
   "outputs": [],
   "source": [
    "import pandas as pd\n",
    "import numpy as np\n",
    "from matplotlib import rcParams\n",
    "# figure size in inches\n",
    "rcParams['figure.figsize'] = 11.7,8.27\n",
    "import seaborn as sns\n",
    "import json\n",
    "import folium\n",
    "import folium.plugins\n",
    "from folium.plugins import TimestampedGeoJson\n",
    "from pathlib import Path\n",
    "from folium import plugins\n",
    "from area import area\n",
    "from folium.plugins import Search\n",
    "\n",
    "from folium.plugins import HeatMap\n",
    "from folium.plugins import MiniMap\n",
    "\n",
    "coords_chicago = [41.8781, -87.6298]"
   ]
  },
  {
   "cell_type": "code",
   "execution_count": 83,
   "metadata": {},
   "outputs": [],
   "source": [
    "cfi_recent = pd.read_csv('data/chicago-food-inspections/scrapped_with_categories.csv')\n",
    "cfi_recent.drop(cfi_recent[[cfi_recent['Latitude'].iloc[i][0]=='[' for i in range(cfi_recent.shape[0])]].index, inplace=True)\n",
    "cfi_insp = pd.read_csv('data/cfi_insp.csv')\n",
    "crimes = pd.read_csv('data/crimes_clean.csv')\n",
    "\n",
    "cfi_score = pd.read_csv('data/cfi_score.csv')\n",
    "cfi_recent = cfi_recent.merge(cfi_score, on='License #')\n",
    "\n",
    "cfi_recent.drop_duplicates(['DBA Name', 'Longitude', 'Latitude'], inplace=True)"
   ]
  },
  {
   "cell_type": "markdown",
   "metadata": {},
   "source": [
    "### Heatmap"
   ]
  },
  {
   "cell_type": "markdown",
   "metadata": {},
   "source": [
    "First, we plotted a density map of Chicago restaurants to have an idea which part of the city hosted most of the restaurants."
   ]
  },
  {
   "cell_type": "code",
   "execution_count": 109,
   "metadata": {},
   "outputs": [],
   "source": [
    "area_geo_path = r'city.geojson'\n",
    "geo_json_chicago_area = json.load(open(area_geo_path))"
   ]
  },
  {
   "cell_type": "code",
   "execution_count": 111,
   "metadata": {},
   "outputs": [],
   "source": [
    "data = cfi_recent[['Latitude', 'Longitude', 'Yelp rating']].dropna()\n",
    "restaurant_density = folium.Map(location=coords_chicago, zoom_start=10) \n",
    "# add the boundaries to the map\n",
    "folium.GeoJson(geo_json_chicago_area, style_function=lambda x: {'color': 'grey', 'fillOpacity':0.2}).add_to(restaurant_density)\n",
    "\n",
    "# List comprehension to make out list of lists\n",
    "heat_data = [[row['Latitude'] ,row['Longitude']] for index, row in data.iterrows()]\n",
    "\n",
    "# Plot it on the map\n",
    "HeatMap(heat_data, min_opacity=0.1, radius=15, blur=5).add_to(restaurant_density)\n",
    "\n",
    "#Minimap\n",
    "minimap = MiniMap(toggle_display=True, position='bottomleft')\n",
    "restaurant_density.add_child(minimap)\n",
    "\n",
    "#Full screen --> Doesn't work on the HTML website\n",
    "#plugins.Fullscreen(\n",
    "#    position='topright',\n",
    "#    title='Expand me',\n",
    "#    title_cancel='Exit me',\n",
    "#    force_separate_button=True\n",
    "#).add_to(restaurant_density)\n",
    "restaurant_density.save('density.html')"
   ]
  },
  {
   "cell_type": "markdown",
   "metadata": {},
   "source": [
    "### Evolution map"
   ]
  },
  {
   "cell_type": "markdown",
   "metadata": {},
   "source": [
    "You can find bellow the code used to plot the time evolving map of the inspection results of Chicago restaurants. In this map, each point represents the results of an inspection to a restaurants (either fail, pass or pass w/ conditions)."
   ]
  },
  {
   "cell_type": "code",
   "execution_count": 101,
   "metadata": {},
   "outputs": [],
   "source": [
    "#Function used to had a column color in the dataset, each color corresponding to wether the restaurants pass/pass with condition or failed the inspection\n",
    "def results_to_color(s):\n",
    "    '''\n",
    "    Function creating a column color for our cfi_insp dataset\n",
    "    \n",
    "    Imput: \n",
    "            s: string containing the results of the inspection\n",
    "    Output:\n",
    "            color corresponding to the inspection: red if failed, orange if pass with conditions, green if pass\n",
    "    '''\n",
    "    if s=='Fail':\n",
    "        return 'darkred'\n",
    "    if s=='Pass':\n",
    "        return 'orange'\n",
    "    if s=='Pass w/ Conditions':\n",
    "        return 'red'"
   ]
  },
  {
   "cell_type": "code",
   "execution_count": 102,
   "metadata": {},
   "outputs": [],
   "source": [
    "cfi_insp['color'] = cfi_insp['Results'].apply(results_to_color)"
   ]
  },
  {
   "cell_type": "code",
   "execution_count": 103,
   "metadata": {},
   "outputs": [],
   "source": [
    "#Note: this code has been inspired by an article written on the website TowardDataScience.\n",
    "\n",
    "def create_geojson_features(df):\n",
    "    '''\n",
    "    This function enables us to create a dict of features, which will be later on used to create the dynamic map\n",
    "    \n",
    "    Imput: \n",
    "            df: Data set as a Pandas DataFrame\n",
    "    Output: \n",
    "            features: Dictionnary of features\n",
    "    '''\n",
    "    features = []\n",
    "    for _, row in df.iterrows():\n",
    "        feature = {\n",
    "            'type': 'Feature',\n",
    "            'geometry': {\n",
    "                'type':'Point', \n",
    "                'coordinates':[row['Longitude'],row['Latitude']]\n",
    "            },\n",
    "            'properties': {\n",
    "                'time': str(row['Inspection Date'])[0:4] + '/' + str(row['Inspection Date'])[5:7], \n",
    "                'popup': '<b>Name: </b>'+ str(row['DBA Name']) + '\\n'+ '<br><b>Reason of inspection: </b>' + str(row['Inspection Type']),\n",
    "                'style': {'color' : row['color']},\n",
    "                'icon': 'circle',\n",
    "                'iconstyle':{\n",
    "                    'fillColor': row['color'],\n",
    "                    'fillOpacity': 1,\n",
    "                    'stroke': 'False',\n",
    "                    'radius': 5\n",
    "                }\n",
    "            }\n",
    "        }\n",
    "        features.append(feature)\n",
    "    return features"
   ]
  },
  {
   "cell_type": "code",
   "execution_count": 104,
   "metadata": {},
   "outputs": [],
   "source": [
    "def make_map(features, duration=None):\n",
    "    '''\n",
    "    This function enables us to create the map, using the features created before.\n",
    "    \n",
    "    Imput:\n",
    "            features: Dictionnary of features\n",
    "            duration: Time that the point will stay on the map, None by default, meaning that the point will stay \n",
    "            forever on the map after having been put (other argument could by 'P1M' for instance, meaning that the \n",
    "            point will only stay one period of time)\n",
    "    Output:\n",
    "            Folium map containing the restaurants\n",
    "    '''\n",
    "    coords_chicago = [41.8781, -87.6298]\n",
    "    chicago_map = folium.Map(location=coords_chicago, control_scale=True, zoom_start=10)\n",
    "    \n",
    "    data = TimestampedGeoJson(\n",
    "        {'type': 'FeatureCollection',\n",
    "        'features': features}\n",
    "        , period='P1M'\n",
    "        , duration=duration\n",
    "        , add_last_point=True\n",
    "        , auto_play=False\n",
    "        , loop=False\n",
    "        , max_speed=1\n",
    "        , loop_button=True\n",
    "        , date_options='YYYY/MM'\n",
    "        , time_slider_drag_update=True\n",
    "    ).add_to(chicago_map)\n",
    "    \n",
    "    item_txt = \"\"\"<i class=\"fa fa-circle fa-1x\" style=\"color:{col}\"></i>  &nbsp;{item} \"\"\"\n",
    "    html_itms_1 = item_txt.format(item=\"Pass\", col=\"orange\")\n",
    "    item_txt = \"\"\"<br> &nbsp; <i class=\"fa fa-circle fa-1x\" style=\"color:{col}\"></i>  &nbsp;{item} \"\"\"\n",
    "    html_itms_2 = item_txt.format(item=\"Pass w/ conditions\", col=\"red\")\n",
    "    html_itms_3 = item_txt.format(item=\"Fail\", col=\"darkred\")\n",
    "    \n",
    "    legend_html = \"\"\"\n",
    "         <div style=\"\n",
    "         position: fixed; \n",
    "         top: 20px; right: 20px; width: 170px; height: 65px; \n",
    "         border:2px solid grey; z-index:9999; \n",
    "\n",
    "         background-color:white;\n",
    "         opacity: .85;\n",
    "\n",
    "         font-size:14px;\n",
    "         font-weight: bold;\n",
    "         \">&nbsp; {itm_txt}\n",
    "          </div> \"\"\".format(itm_txt=html_itms_1+html_itms_2+html_itms_3)\n",
    "    chicago_map.get_root().html.add_child(folium.Element(legend_html))\n",
    "    \n",
    "    return chicago_map"
   ]
  },
  {
   "cell_type": "code",
   "execution_count": 105,
   "metadata": {},
   "outputs": [],
   "source": [
    "def create_the_map(df, N, duration):\n",
    "    '''\n",
    "    This function used the previous function to created the features and the map associated with it. Note that, we have\n",
    "    to take a subsample of our dataset if we used to put a None for the duration, otherwise, the maps becomes too crowded\n",
    "    and is not readable anymore.\n",
    "    \n",
    "    Imput:\n",
    "            df: Data set as a Pandas DataFrame\n",
    "            N: Number of samples that we want to take from our dataset\n",
    "            duration: Time that the point will stay on the map, None by default, meaning that the point will stay \n",
    "            forever on the map after having been put (other argument could by 'P1M' for instance, meaning that the \n",
    "            point will only stay one period of time)\n",
    "    Output:\n",
    "            Folium map containing the restaurants   \n",
    "            \n",
    "    '''\n",
    "    data = df.sample(N) #Only take a subsample of our dataset to not obtain something too crowded\n",
    "    features = create_geojson_features(data)\n",
    "    return make_map(features, duration)"
   ]
  },
  {
   "cell_type": "code",
   "execution_count": 114,
   "metadata": {
    "scrolled": false
   },
   "outputs": [],
   "source": [
    "map_1 = create_the_map(cfi_insp, 68000, 'P1M')\n",
    "folium.GeoJson(geo_json_chicago_area, style_function=lambda x: {'color': 'grey', 'fillOpacity':0.2}).add_to(map_1)\n",
    "map_1.save('map_evolution_inspection_full.html')\n",
    "#map_1"
   ]
  },
  {
   "cell_type": "markdown",
   "metadata": {},
   "source": [
    "## Yelp rating"
   ]
  },
  {
   "cell_type": "markdown",
   "metadata": {},
   "source": [
    "Plot on a map the restaurants with their rating on Yelp. On this plot, the color of each points represent the rating of the restaurants. Note that due to avoid to have a very crowded map, we only plotted some points and not the all dataset."
   ]
  },
  {
   "cell_type": "code",
   "execution_count": 96,
   "metadata": {},
   "outputs": [],
   "source": [
    "def yelp_to_color(num):\n",
    "    if 1<=num and num<2:\n",
    "        return 'beige'\n",
    "    if 2<=num and num<3:\n",
    "        return 'orange'\n",
    "    if 3<=num and num<4:\n",
    "        return 'red'\n",
    "    if 4<=num and num<=5:\n",
    "        return 'darkred'\n",
    "    else:\n",
    "        return 'black'"
   ]
  },
  {
   "cell_type": "code",
   "execution_count": 97,
   "metadata": {},
   "outputs": [],
   "source": [
    "cfi_recent['Yelp color']=cfi_recent['Yelp rating'].apply(yelp_to_color)"
   ]
  },
  {
   "cell_type": "markdown",
   "metadata": {},
   "source": [
    "#### Simple map"
   ]
  },
  {
   "cell_type": "code",
   "execution_count": 416,
   "metadata": {},
   "outputs": [],
   "source": [
    "N_top = 250 #Display the 250 first restaurants in term of number of review\n",
    "chicago_map = folium.Map(location=coords_chicago, control_scale=True, zoom_start=10)\n",
    "folium.GeoJson(geo_json_chicago_area, style_function=lambda x: {'color': 'grey', 'fillOpacity':0.2}).add_to(chicago_map)\n",
    "\n",
    "data = cfi_recent[['Latitude', 'Longitude', 'Yelp name', 'Yelp color', 'Yelp review count']].dropna().sort_values(by='Yelp review count', ascending=False) #.sample(50)\n",
    "for i in range(N_top):\n",
    "    row = data.iloc[i]\n",
    "    folium.Marker([row['Latitude'], row['Longitude']], tooltip = row['Yelp name'],icon=folium.Icon(color=row['Yelp color'], icon='cutlery')).add_to(chicago_map)\n",
    "    \n",
    "chicago_map.save('Yelp_rating.html')"
   ]
  },
  {
   "cell_type": "markdown",
   "metadata": {},
   "source": [
    "#### Dual map"
   ]
  },
  {
   "cell_type": "markdown",
   "metadata": {},
   "source": [
    "This part enables us to plot a dual map which will contain two maps with the same spirit as the previous one. Plotting two maps enables us to see the difference between two groups of restaurants. Namely here we choose to highlhight the difference between the restaurants with the highest number of reviews on Yelp and the one with the smallest number of reviews."
   ]
  },
  {
   "cell_type": "code",
   "execution_count": 116,
   "metadata": {},
   "outputs": [],
   "source": [
    "chicago_dual_map = plugins.DualMap(location=coords_chicago, tiles=None, zoom_start=10)\n",
    "folium.GeoJson(geo_json_chicago_area, style_function=lambda x: {'color': 'grey', 'fillOpacity':0.2}).add_to(chicago_dual_map)\n",
    "\n",
    "folium.TileLayer('openstreetmap').add_to(chicago_dual_map)\n",
    "\n",
    "N_top = 100 #Display the 150 first restaurants in term of number of review\n",
    "\n",
    "data = cfi_recent[['Latitude', 'Longitude', 'Yelp name', 'Yelp color', 'Yelp review count']].dropna().sort_values(by='Yelp review count', ascending=False) #.sample(50)\n",
    "for i in range(N_top):\n",
    "    row_1 = data.iloc[i]\n",
    "    folium.Marker([row_1['Latitude'], row_1['Longitude']], tooltip = row_1['Yelp name'],icon=folium.Icon(color=row_1['Yelp color'], icon='cutlery')).add_to(chicago_dual_map.m1)\n",
    "    row_2 = data.iloc[data.shape[0]-1-i]\n",
    "    folium.Marker([row_2['Latitude'], row_2['Longitude']], tooltip = row_2['Yelp name'],icon=folium.Icon(color=row_2['Yelp color'], icon='cutlery')).add_to(chicago_dual_map.m2)\n",
    "\n",
    "    \n",
    "item_txt = \"\"\"<i class=\"fa fa-circle fa-1x\" style=\"color:{col}\"></i>  &nbsp;{item} \"\"\"\n",
    "html_itms_1 = item_txt.format(item=\"Yelp rating < 2\", col=\"#fbf3d4\")\n",
    "item_txt = \"\"\"<br> &nbsp; <i class=\"fa fa-circle fa-1x\" style=\"color:{col}\"></i>  &nbsp;{item} \"\"\"\n",
    "html_itms_2 = item_txt.format(item=\"2 \"+\"\\u2264\"+\" Yelp rating < 3\", col=\"orange\")\n",
    "html_itms_3 = item_txt.format(item=\"3 \"+\"\\u2264\"+\" Yelp rating < 4\", col=\"red\")\n",
    "html_itms_4 = item_txt.format(item=\"4 \"+\"\\u2264\"+\" Yelp rating\", col=\"darkred\")\n",
    "\n",
    "legend_html = \"\"\"\n",
    "             <div style=\"\n",
    "             position: fixed; \n",
    "             top: 20px; right: 20px; width: 170px; height: 85px; \n",
    "             border:2px solid grey; z-index:9999; \n",
    "\n",
    "             background-color:white;\n",
    "             opacity: .85;\n",
    "\n",
    "             font-size:14px;\n",
    "             font-weight: bold;\n",
    "             \">&nbsp; {itm_txt}\n",
    "              </div> \"\"\".format(itm_txt=html_itms_1+html_itms_2+html_itms_3+html_itms_4)\n",
    "chicago_dual_map.get_root().html.add_child(folium.Element(legend_html))\n",
    "    \n",
    "chicago_dual_map.save('dual.html')"
   ]
  },
  {
   "cell_type": "markdown",
   "metadata": {},
   "source": [
    "## Final plot"
   ]
  },
  {
   "cell_type": "markdown",
   "metadata": {},
   "source": [
    "The code bellow enables us to generate the final plots, which is a summary of most of the information contained in the previous plot. This plots is also highly interactive, the user will be able to choose the food category, search for a special area, having a view of the inspection score of any restaurant and their Yelp rating as well."
   ]
  },
  {
   "cell_type": "code",
   "execution_count": 84,
   "metadata": {},
   "outputs": [],
   "source": [
    "area_geo_path = r'./data/boundaries.geojson'\n",
    "geo_json_chicago_area_crime = json.load(open(area_geo_path))"
   ]
  },
  {
   "cell_type": "code",
   "execution_count": 85,
   "metadata": {},
   "outputs": [],
   "source": [
    "#For the crime zones\n",
    "recent_crimes = crimes[crimes['Year'] == 2019]\n",
    "cts = recent_crimes['Community Area'].value_counts()\n",
    "n_areas = pd.DataFrame(cts.values, cts.index, columns=[\"crimes\"])\n",
    "n_areas['code'] = n_areas.index\n",
    "\n",
    "# add a column on surface area of the each community area\n",
    "n_areas['surface'] = np.nan\n",
    "for feature in geo_json_chicago_area_crime['features']:\n",
    "    idx = int(feature['properties']['area_num_1'])\n",
    "    n_areas.loc[idx,'surface'] = area(feature['geometry'])\n",
    "\n",
    "# calculate the number of crimes per surface area\n",
    "n_areas['crimes density'] = n_areas['crimes']/n_areas['surface']\n",
    "\n",
    "# reconvert the area code to string for binding with geojson data\n",
    "n_areas['code'] = n_areas['code'].apply(str)"
   ]
  },
  {
   "cell_type": "code",
   "execution_count": 86,
   "metadata": {},
   "outputs": [],
   "source": [
    "#Drop the rows which are not in any of the food category\n",
    "cfi_recent.drop(cfi_recent[cfi_recent['Yelp category']=='[]'].index, inplace=True)"
   ]
  },
  {
   "cell_type": "code",
   "execution_count": 87,
   "metadata": {},
   "outputs": [],
   "source": [
    "#Obtain the list of the differents categories\n",
    "cfi_recent['Yelp category'] = cfi_recent['Yelp category'].apply(lambda x: eval(x))\n",
    "list_category = pd.unique(cfi_recent.explode(column='Yelp category')['Yelp category'])"
   ]
  },
  {
   "cell_type": "code",
   "execution_count": 88,
   "metadata": {},
   "outputs": [],
   "source": [
    "data = cfi_recent[['DBA Name', 'Longitude', 'Latitude', 'Yelp rating', 'Yelp category', 'Violations', 'Facility Type', 'Smoothed Food Inspection Score']].dropna() "
   ]
  },
  {
   "cell_type": "code",
   "execution_count": 89,
   "metadata": {},
   "outputs": [],
   "source": [
    "q_25 = cfi_recent['Smoothed Food Inspection Score'].quantile(0.25)\n",
    "q_50 = cfi_recent['Smoothed Food Inspection Score'].quantile(0.5)\n",
    "q_75 = cfi_recent['Smoothed Food Inspection Score'].quantile(0.75)\n",
    "def cfi_score_to_color(num):\n",
    "    if num<=q_25:\n",
    "        return 'beige'\n",
    "    if num<=q_50:\n",
    "        return 'orange'\n",
    "    if num <=q_75:\n",
    "        return 'red'\n",
    "    return 'darkred'"
   ]
  },
  {
   "cell_type": "code",
   "execution_count": 90,
   "metadata": {},
   "outputs": [],
   "source": [
    "data['CFI color']=data['Smoothed Food Inspection Score'].apply(cfi_score_to_color)"
   ]
  },
  {
   "cell_type": "code",
   "execution_count": 98,
   "metadata": {},
   "outputs": [],
   "source": [
    "for i in range(len(geo_json_chicago_area_crime['features'])):\n",
    "    geo_json_chicago_area_crime['features'][i]['properties']['community']=geo_json_chicago_area_crime['features'][i]['properties']['community'].lower().capitalize()\n",
    "\n",
    "for k in range(1,6):  \n",
    "    m = folium.Map(location=[41.8781, -87.6298], zoom_start=10)\n",
    "    mcg=folium.plugins.MarkerCluster(name=str(k-1) +' <= Yelp rating < ' + str(k), control=False, overlay=True, show=False)\n",
    "    m.add_child(mcg)\n",
    "    parent_group = data[data['Yelp rating']>=k-1]\n",
    "        \n",
    "    for j in range(list_category.shape[0]):\n",
    "        group = parent_group[[list_category[j] in parent_group['Yelp category'].iloc[i] for i in range(parent_group.shape[0])]]\n",
    "        g = folium.plugins.FeatureGroupSubGroup(\n",
    "                mcg, \n",
    "                list_category[j].replace('_',' ').capitalize(), \n",
    "                show=False\n",
    "            )\n",
    "        \n",
    "        for i in range(group.shape[0]):\n",
    "            folium.Marker(\n",
    "                (group['Latitude'].iloc[i], group['Longitude'].iloc[i]), \n",
    "                tooltip=group['DBA Name'].iloc[i].capitalize(),\n",
    "                icon=folium.Icon(color=group['CFI color'].iloc[i], icon='cutlery'), \n",
    "                popup='<b>Yelp rating: </b>'+ str(group['Yelp rating'].iloc[i]) + '<br><b>Food category: </b>' \n",
    "                + list_category[j].replace('_',' ').capitalize()\n",
    "            ).add_to(g)\n",
    "        m.add_child(g) \n",
    "        \n",
    "    #Minimap\n",
    "    minimap = MiniMap(toggle_display=True, position='bottomleft')\n",
    "    m.add_child(minimap)\n",
    "\n",
    "    #Full screem --> Doesn't work on the website\n",
    "    #plugins.Fullscreen(\n",
    "    #    position='topright',\n",
    "    #    title='Expand me',\n",
    "    #    title_cancel='Exit me',\n",
    "    #    force_separate_button=True\n",
    "    #).add_to(m)\n",
    "\n",
    "    folium.Choropleth(\n",
    "        geo_data=geo_json_chicago_area_crime,\n",
    "        name='Community areas (crime density)',\n",
    "        data=n_areas,\n",
    "        columns=['code', 'crimes density'],\n",
    "        key_on='feature.properties.area_num_1',\n",
    "        fill_color='YlGn',\n",
    "        fill_opacity=0.7,\n",
    "        line_opacity=0.5,\n",
    "        line_color='black',\n",
    "        legend_name='Density of crimes in 2019 per surface area',\n",
    "        tooltip=folium.GeoJsonTooltip(\n",
    "            fields=['community'],\n",
    "            aliases=['Community:'],\n",
    "            localize=True)\n",
    "    ).add_to(m)\n",
    "\n",
    "    citygeo = folium.GeoJson(\n",
    "        geo_json_chicago_area_crime,\n",
    "        show=False,\n",
    "        name='Community areas names',\n",
    "        tooltip=folium.GeoJsonTooltip(\n",
    "            fields=['community'],\n",
    "            aliases=['Community:'],\n",
    "            localize=True),\n",
    "        style_function = lambda x: {\n",
    "        'fillColor': 'grey',\n",
    "        'color': 'grey',\n",
    "        'weight':2,\n",
    "        'fillOpacity':0.1,\n",
    "    }\n",
    "    ).add_to(m)\n",
    "\n",
    "    citysearch = Search(\n",
    "        layer=citygeo,\n",
    "        geom_type='Polygon',\n",
    "        placeholder='Search for a Community',\n",
    "        collapsed=True,\n",
    "        search_label='community'\n",
    "    ).add_to(m)\n",
    "    \n",
    "    item_txt = \"\"\"<br> &nbsp; <i class=\"fa fa-circle fa-1x\" style=\"color:{col}\"></i>  &nbsp;{item} \"\"\"\n",
    "    html_itms_1 = item_txt.format(item=\"Poor\", col=\"#fbf3d4\")\n",
    "    item_txt = \"\"\"<br> &nbsp; <i class=\"fa fa-circle fa-1x\" style=\"color:{col}\"></i>  &nbsp;{item} \"\"\"\n",
    "    html_itms_2 = item_txt.format(item=\"Fair\", col=\"orange\")\n",
    "    html_itms_3 = item_txt.format(item=\"Good\", col=\"red\")\n",
    "    html_itms_4 = item_txt.format(item=\"Excellent\", col=\"darkred\")\n",
    "\n",
    "    legend_html = \"\"\"\n",
    "                 <div style=\"\n",
    "                 position: fixed; \n",
    "                 bottom: 20px; right: 20px; width: 170px; height: 105px; \n",
    "                 border:2px solid grey; z-index:9999; \n",
    "\n",
    "                 background-color:white;\n",
    "                 opacity: .85;\n",
    "\n",
    "                 font-size:14px;\n",
    "                 font-weight: bold;\n",
    "                 \">&nbsp; {title} \n",
    "                 {itm_txt}\n",
    "                  </div> \"\"\".format(title=\"Sanitation Standard\",itm_txt=html_itms_1+html_itms_2+html_itms_3+html_itms_4)\n",
    "    m.get_root().html.add_child(folium.Element(legend_html))\n",
    "\n",
    "    folium.LayerControl(collapsed=True).add_to(m)\n",
    "    m.save('final_'+str(k-1)+'.html')"
   ]
  },
  {
   "cell_type": "markdown",
   "metadata": {},
   "source": [
    "## Interactive crimes map"
   ]
  },
  {
   "cell_type": "code",
   "execution_count": 47,
   "metadata": {},
   "outputs": [],
   "source": [
    "for i in range(len(geo_json_chicago_area_crime['features'])):\n",
    "    geo_json_chicago_area_crime['features'][i]['properties']['community']=geo_json_chicago_area_crime['features'][i]['properties']['community'].lower().capitalize()\n",
    "\n",
    "m = folium.Map(location=[41.8781, -87.6298], zoom_start=10)\n",
    "\n",
    "folium.Choropleth(\n",
    "    geo_data=geo_json_chicago_area_crime,\n",
    "    name='Crimes area',\n",
    "    data=n_areas,\n",
    "    columns=['code', 'crimes density'],\n",
    "    key_on='feature.properties.area_num_1',\n",
    "    fill_color='YlGn',\n",
    "    fill_opacity=0.7,\n",
    "    line_opacity=0.5,\n",
    "    line_color='black',\n",
    "    legend_name='Density of crimes from 2010 to present per surface area',\n",
    "    tooltip=folium.GeoJsonTooltip(\n",
    "        fields=['community'],\n",
    "        aliases=['Community:'],\n",
    "        localize=True)\n",
    ").add_to(m)\n",
    "\n",
    "citygeo = folium.GeoJson(\n",
    "    geo_json_chicago_area_crime,\n",
    "    name='US Cities',\n",
    "    tooltip=folium.GeoJsonTooltip(\n",
    "        fields=['community'],\n",
    "        aliases=['Community:'],\n",
    "        localize=True),\n",
    "    style_function = lambda x: {\n",
    "    'fillColor': 'grey',\n",
    "    'color': 'grey',\n",
    "    'weight':2,\n",
    "    'fillOpacity':0.1,\n",
    "}\n",
    ").add_to(m)\n",
    "\n",
    "citysearch = Search(\n",
    "    layer=citygeo,\n",
    "    geom_type='Polygon',\n",
    "    placeholder='Search for a Community',\n",
    "    collapsed=True,\n",
    "    search_label='community'\n",
    ").add_to(m)\n",
    "\n",
    "folium.LayerControl().add_to(m)\n",
    "m.save('crimes_area.html')"
   ]
  },
  {
   "cell_type": "code",
   "execution_count": null,
   "metadata": {},
   "outputs": [],
   "source": []
  }
 ],
 "metadata": {
  "kernelspec": {
   "display_name": "Python 3",
   "language": "python",
   "name": "python3"
  },
  "language_info": {
   "codemirror_mode": {
    "name": "ipython",
    "version": 3
   },
   "file_extension": ".py",
   "mimetype": "text/x-python",
   "name": "python",
   "nbconvert_exporter": "python",
   "pygments_lexer": "ipython3",
   "version": "3.7.1"
  }
 },
 "nbformat": 4,
 "nbformat_minor": 2
}
