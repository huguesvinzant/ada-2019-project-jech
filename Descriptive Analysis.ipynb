{
 "cells": [
  {
   "cell_type": "markdown",
   "metadata": {},
   "source": [
    "# <font size=\"10\"><span style='color:#2a4b8d'><p style=\"text-align: center;\">A short guide on where to safely eat delicious food in Chicago</font>"
   ]
  },
  {
   "cell_type": "code",
   "execution_count": 1,
   "metadata": {},
   "outputs": [],
   "source": [
    "import pandas as pd\n",
    "import numpy as np\n",
    "import matplotlib.pyplot as plt\n",
    "import seaborn as sns\n",
    "import os, sys\n",
    "import re"
   ]
  },
  {
   "cell_type": "markdown",
   "metadata": {},
   "source": [
    "**Requirements**\n",
    "\n",
    "The project repo contains a notebook with data collection and descriptive analysis, properly commented, and the notebook ends with a more structured and informed plan for what comes next (all the way to a plan for the presentation). These sections of the notebook should be filled in by milestone 3."
   ]
  },
  {
   "cell_type": "markdown",
   "metadata": {},
   "source": [
    "We will evaluate this milestone according to how well these previous steps (or other reasonable ones) have been done and documented, the quality of the code and its documentation, the feasibility and critical awareness of the project."
   ]
  },
  {
   "cell_type": "markdown",
   "metadata": {},
   "source": [
    "# Data collection"
   ]
  },
  {
   "cell_type": "markdown",
   "metadata": {},
   "source": [
    "- That you can handle the data in its size."
   ]
  },
  {
   "cell_type": "markdown",
   "metadata": {},
   "source": [
    "## Chicago Food Inspections (CFI) dataset"
   ]
  },
  {
   "cell_type": "markdown",
   "metadata": {},
   "source": [
    "This is our main [dataset](https://www.kaggle.com/chicago/chicago-food-inspections), where the information is derived from inspections of restaurants and other food establishments in Chicago from January 1, 2010 to the present. Inspections are performed by staff from the Chicago Department of Public Health’s Food Protection Program using a standardized procedure. This dataset contains 22 columns and 194’615 rows (updated frequently, so subject to change). "
   ]
  },
  {
   "cell_type": "code",
   "execution_count": 2,
   "metadata": {},
   "outputs": [
    {
     "name": "stdout",
     "output_type": "stream",
     "text": [
      "The dataset has size:  (194784, 22)\n"
     ]
    }
   ],
   "source": [
    "cfi = pd.read_csv('data/chicago-food-inspections/food-inspections.csv')\n",
    "print('The dataset has size: ', cfi.shape)"
   ]
  },
  {
   "cell_type": "markdown",
   "metadata": {},
   "source": [
    "## Yelp Reviews (YR) dataset"
   ]
  },
  {
   "cell_type": "markdown",
   "metadata": {},
   "source": [
    "Yelp.com is a website that helps people find great local businesses such as restaurants based on customer reviews. Each business has a page where visitors can write comments and add a general grade reflecting their experience there. We can conveniently access these business ratings through their Yelp Fusion API for all businesses with at least one review. The API also gives us other relevant information such as the number of reviews, which will be a factor taken into account while ranking the restaurants. Moreover, it is possible to search for the businesses via their latitude and longitude location data, which is of great interest in our project framework, as our main CFI dataset contains the latitude and longitude of the restaurants as well. A more detailed description of the API can be found [here](https://www.yelp.com/developers/documentation/v3/business_search)."
   ]
  },
  {
   "cell_type": "code",
   "execution_count": null,
   "metadata": {},
   "outputs": [],
   "source": []
  },
  {
   "cell_type": "markdown",
   "metadata": {},
   "source": [
    "## Crimes dataset"
   ]
  },
  {
   "cell_type": "markdown",
   "metadata": {},
   "source": [
    "This [dataset](https://data.cityofchicago.org/Public-Safety/Crimes-2001-to-present/ijzp-q8t2) reflects reported incidents of crime that occurred in the City of Chicago from 2001 to present, and is updated daily with a seven-day lag. For our project, we will however only focus on the data from January 1, 2010 onwards to match with the CFI dataset. Data is extracted from the Chicago Police Department's CLEAR system and due to privacy concerns, addresses are only shown at the block level. This level of resolution is however more than sufficient for the analyses we aim to undertake. "
   ]
  },
  {
   "cell_type": "code",
   "execution_count": 3,
   "metadata": {},
   "outputs": [],
   "source": [
    "#crimes = pd.read_csv('data/crimes.csv')"
   ]
  },
  {
   "cell_type": "markdown",
   "metadata": {},
   "source": [
    "---"
   ]
  },
  {
   "cell_type": "markdown",
   "metadata": {},
   "source": [
    "# Data preprocessing"
   ]
  },
  {
   "cell_type": "markdown",
   "metadata": {},
   "source": [
    "- That you understand what’s into the data (formats, distributions, missing values, correlations, etc.).\n",
    "- That you considered ways to enrich, filter, transform the data according to your needs."
   ]
  },
  {
   "cell_type": "markdown",
   "metadata": {},
   "source": [
    "## Chicago Food Inspections (CFI) dataset"
   ]
  },
  {
   "cell_type": "markdown",
   "metadata": {},
   "source": [
    "Note that the last 5 columns only contain NaN values, and will therefore be removed from the dataset. The set is in a simple csv file, which makes it easy to read using Pandas. By quickly inspecting the dataset on Pandas, we can note that there are 121 duplicates, which is only a tiny fraction of the data compared to the number of rows, ensuring we will have enough data to work with. In this dataset, we have information on the location of the restaurants, where 7 columns contain spatial indicators, excluding the columns on the community area and zip codes, which are full of NaN values and will hence be disregarded. Information on the inspections consist of 5 columns including the inspection type, date, id, results and possible violations. The remaining columns are related to the restaurant itself, including the facility type, licence number, DBA, AKA names and risk."
   ]
  },
  {
   "cell_type": "markdown",
   "metadata": {},
   "source": [
    "### 1. Exploring columns"
   ]
  },
  {
   "cell_type": "code",
   "execution_count": 4,
   "metadata": {},
   "outputs": [],
   "source": [
    "# Drop columns that only contain NaNs\n",
    "cfi.drop(columns = ['Historical Wards 2003-2015', 'Zip Codes', 'Community Areas', 'Census Tracts', 'Wards'], inplace = True)\n",
    "\n",
    "# Remove inspection for which buisnesses were closed or not found\n",
    "cfi = cfi[(cfi['Results'] != 'Out of Business') & (cfi['Results'] != 'Business Not Located')]\n",
    "\n",
    "# Remove buisnesses without any license number\n",
    "cfi = cfi[(cfi['License #'] != 0)]"
   ]
  },
  {
   "cell_type": "markdown",
   "metadata": {},
   "source": [
    "### 2. Facility inspection"
   ]
  },
  {
   "cell_type": "markdown",
   "metadata": {},
   "source": [
    "We only want to select inspections on facilities that prepare the food themselves. That is, we want to exclude grocery stores, gas stations, schools, etc. "
   ]
  },
  {
   "cell_type": "code",
   "execution_count": 5,
   "metadata": {},
   "outputs": [],
   "source": [
    "# Initializing the regex \n",
    "REST = \"rest|diner|sushi|taqueria|hot.dog|grill|cuisine|jap.nese|sandwich|bbq|pizza|burrito|mcdo|mc do|kimchee|chicken|pollo|fish|pasta|taco|rice|fast.food|bagel|noodle|sub|pita|kebab|kabob|seafood|shrimp|thai|african|chinese|burger|porkchop|wendy\"\n",
    "BAR = \"bar|hooka|bistro|brewery\"\n",
    "TAVERN = \"tavern\"\n",
    "COFFEE = \"cafe|caffe|coffee\"\n",
    "DESSERT = \"gelato|ice.cream|paleteria|dessert|cand.|chocolate|cookies|cake|patisserie|sweet\"\n",
    "BAKERY = \"bakery|donut\"\n",
    "DRINKS = \"shake|juice|smoothie|tea\"\n",
    "SNACK = \"snack|snak|popcorn\"\n",
    "DELI = \"deli\"\n",
    "regexes = [REST, BAR, TAVERN, COFFEE, DESSERT, BAKERY, DRINKS, SNACK, DELI]\n",
    "types = ['Restaurant', 'Bar', 'Tavern', 'Coffee', 'Dessert', 'Bakery', 'Drinks', 'Snaks', 'Deli']\n",
    "\n",
    "# Get rows with no facility type\n",
    "no_facility = cfi['Facility Type'].isnull() \n",
    "\n",
    "# Change the facility type according to the regexes\n",
    "for i, regex in enumerate(regexes):\n",
    "    facility = cfi['Facility Type'].str.contains(pat = regex, case=False, regex=True, na=False)\n",
    "    dba = cfi['DBA Name'].str.contains(pat = regex, case = False, regex = True, na=False)\n",
    "    cfi.loc[facility|(no_facility & dba), 'Facility Type'] = types[i]\n",
    "    \n",
    "# Drop rows with no and not of interest facility type\n",
    "cfi.dropna(axis = 0, subset = ['Facility Type'], inplace = True)\n",
    "index_names = cfi[~cfi['Facility Type'].isin(types)].index\n",
    "cfi.drop(index_names, inplace = True)"
   ]
  },
  {
   "cell_type": "markdown",
   "metadata": {},
   "source": [
    "### 3. Locations inspection"
   ]
  },
  {
   "cell_type": "markdown",
   "metadata": {},
   "source": [
    "There are no rows that don't have one of either latitude, longitude and address. The address, however, is insufficient, and thus all samples without latitude & longitude will be removed."
   ]
  },
  {
   "cell_type": "code",
   "execution_count": 6,
   "metadata": {},
   "outputs": [
    {
     "data": {
      "image/png": "[encoded data removed]",
      "text/plain": [
       "<Figure size 432x288 with 1 Axes>"
      ]
     },
     "metadata": {},
     "output_type": "display_data"
    }
   ],
   "source": [
    "# Drop location with missing latitude or longitude\n",
    "no_location = cfi[cfi['Latitude'].isnull() | cfi['Longitude'].isnull()].index\n",
    "cfi.drop(no_location, inplace = True)\n",
    "\n",
    "# Plot the locations\n",
    "cfi.plot.scatter(x = 'Latitude', y ='Longitude')\n",
    "plt.show()"
   ]
  },
  {
   "cell_type": "markdown",
   "metadata": {},
   "source": [
    "This scatter plot shows that all of the data does seem to really be in Chicago."
   ]
  },
  {
   "cell_type": "markdown",
   "metadata": {},
   "source": [
    "### 4. Group places"
   ]
  },
  {
   "cell_type": "code",
   "execution_count": 7,
   "metadata": {},
   "outputs": [],
   "source": [
    "import datetime\n",
    "\n",
    "# Drop unused columns\n",
    "cfi.drop(columns = ['AKA Name', 'Location'], inplace = True)\n",
    "\n",
    "# Convert Inspection date in date format\n",
    "cfi['Inspection Date'] = cfi['Inspection Date'].apply(lambda x: datetime.datetime.strptime(x, '%Y-%m-%dT%H:%M:%S.%f'))\n",
    "\n",
    "# Generate groups according to license number\n",
    "groups = cfi.groupby(['License #'])\n",
    "\n",
    "# Aggregates other columns either in a list format or by taking the mode\n",
    "columns = (list(cfi.columns))\n",
    "columns.remove('License #')\n",
    "columns_to_list = ['Inspection ID', 'Inspection Date', 'Inspection Type', 'Results', 'Violations']\n",
    "\n",
    "for i, col in enumerate(columns):\n",
    "    if(col not in columns_to_list): # Take the mode value\n",
    "        df = groups[col].agg(pd.Series.mode).reset_index(name=col)\n",
    "    else: # Aggregate the resluts in a list\n",
    "        df = groups[col].apply(list).reset_index(name=col)\n",
    "        \n",
    "    if(i==0):\n",
    "        cfi_groups = df\n",
    "    else:\n",
    "        cfi_groups = cfi_groups.merge(df, on = ['License #'])"
   ]
  },
  {
   "cell_type": "markdown",
   "metadata": {},
   "source": [
    "## Crimes dataset"
   ]
  },
  {
   "cell_type": "markdown",
   "metadata": {},
   "source": [
    "The whole dataset includes almost 7M entries and 30 columns, but only roughly 3M entries pertain to our study period. The columns contain information regarding the time and type of the incidence (using the Illinois Uniform Crime Reporting code, IUCR). It also reports various location measures at different aggregation levels, where the latitude and longitude as well as the community area code will be of greatest importance for our intended analysis framework."
   ]
  },
  {
   "cell_type": "markdown",
   "metadata": {},
   "source": [
    "eliane"
   ]
  },
  {
   "cell_type": "code",
   "execution_count": null,
   "metadata": {},
   "outputs": [],
   "source": []
  },
  {
   "cell_type": "markdown",
   "metadata": {},
   "source": [
    "## Yelp Reviews (YR) dataset"
   ]
  },
  {
   "cell_type": "markdown",
   "metadata": {},
   "source": [
    "jeremie"
   ]
  },
  {
   "cell_type": "code",
   "execution_count": null,
   "metadata": {},
   "outputs": [],
   "source": []
  },
  {
   "cell_type": "markdown",
   "metadata": {},
   "source": [
    "---"
   ]
  },
  {
   "cell_type": "markdown",
   "metadata": {},
   "source": [
    "# Descriptive analysis "
   ]
  },
  {
   "cell_type": "markdown",
   "metadata": {},
   "source": [
    "Our research questions defined in the README give us a good framework for our descriptive analysis.\n",
    "\n",
    "Up to the second milestone, we aimed to:\n",
    "\n",
    "- evolution of the food inspection results\n",
    "- food chains / food categories (type of cuisine, facility type etc.)\n",
    "- a possible correlation of hygienic standards of the food places and their respective customer reviews\n",
    "- patterns of neighborhood crime rates"
   ]
  },
  {
   "cell_type": "markdown",
   "metadata": {},
   "source": [
    "## Evolution of food inspection results"
   ]
  },
  {
   "cell_type": "markdown",
   "metadata": {},
   "source": [
    "camille\n",
    "\n",
    "How did the food safety in Chicago evolve geographically since the year 2010? Does the same area/restaurants remain safe over time?"
   ]
  },
  {
   "cell_type": "code",
   "execution_count": null,
   "metadata": {},
   "outputs": [],
   "source": []
  },
  {
   "cell_type": "markdown",
   "metadata": {},
   "source": [
    "## Analysis of food chains and categories"
   ]
  },
  {
   "cell_type": "markdown",
   "metadata": {},
   "source": [
    "hugues\n",
    "\n",
    "Are large food chains or specific cuisine types more prone to fail food inspections?"
   ]
  },
  {
   "cell_type": "code",
   "execution_count": null,
   "metadata": {},
   "outputs": [],
   "source": []
  },
  {
   "cell_type": "markdown",
   "metadata": {},
   "source": [
    "## Correlation analysis  of hygienic standards of the food places and customer reviews"
   ]
  },
  {
   "cell_type": "markdown",
   "metadata": {},
   "source": [
    "(jeremie)\n",
    "\n",
    "Are there correlates between the food inspection fail rate of areas and online Yelp ratings of restaurants?"
   ]
  },
  {
   "cell_type": "code",
   "execution_count": null,
   "metadata": {},
   "outputs": [],
   "source": []
  },
  {
   "cell_type": "markdown",
   "metadata": {},
   "source": [
    "## Patterns of neighborhood crime rates"
   ]
  },
  {
   "cell_type": "markdown",
   "metadata": {},
   "source": [
    "eliane"
   ]
  },
  {
   "cell_type": "code",
   "execution_count": null,
   "metadata": {},
   "outputs": [],
   "source": []
  },
  {
   "cell_type": "markdown",
   "metadata": {},
   "source": []
  },
  {
   "cell_type": "markdown",
   "metadata": {},
   "source": [
    "---"
   ]
  },
  {
   "cell_type": "markdown",
   "metadata": {},
   "source": [
    "**We will finalize our descriptive analysis until milestone 3 by also doing:**\n",
    "\n",
    "- Correlation analysis: Are there correlates between the food inspection fail rate of areas and online Yelp ratings of restaurants?\n",
    "- Concluding analysis:\n",
    "    - Where can one safely eat delicious food in Chicago?\n",
    "    - Do certain neighborhoods offer a better overall dining experience based on customer reviews, and food as well as neighborhood safety?\n"
   ]
  },
  {
   "cell_type": "markdown",
   "metadata": {},
   "source": [
    "## <span style='color:Gray'> Correlation analysis of hygienic standards and public safety"
   ]
  },
  {
   "cell_type": "markdown",
   "metadata": {},
   "source": [
    "<span style='color:Gray'> Are there correlates between the food inspection fail rate of areas and public safety, measured through crime rates?"
   ]
  },
  {
   "cell_type": "markdown",
   "metadata": {},
   "source": [
    "## <span style='color:Gray'> Concluding analysis"
   ]
  },
  {
   "cell_type": "markdown",
   "metadata": {},
   "source": [
    "<span style='color:Gray'>\n",
    "    \n",
    "- Where can one safely eat delicious food in Chicago?\n",
    "    \n",
    "- Do certain neighborhoods offer a better overall dining experience based on customer reviews, and food as well as neighborhood safety?\n"
   ]
  },
  {
   "cell_type": "markdown",
   "metadata": {},
   "source": [
    "---"
   ]
  },
  {
   "cell_type": "markdown",
   "metadata": {},
   "source": [
    "# Project pipeline"
   ]
  },
  {
   "cell_type": "markdown",
   "metadata": {},
   "source": [
    "- That you have updated your plan in a reasonable way, reflecting your improved knowledge after data acquaintance. In particular, discuss how your data suits your project needs and discuss the methods you’re going to use, giving their essential mathematical details in the notebook.\n",
    "- That your plan for analysis and communication is now reasonable and sound, potentially discussing alternatives to your choices that you considered but dropped."
   ]
  },
  {
   "cell_type": "markdown",
   "metadata": {},
   "source": [
    "## Mid-term review"
   ]
  },
  {
   "cell_type": "markdown",
   "metadata": {},
   "source": [
    "## Internal milestones"
   ]
  },
  {
   "cell_type": "markdown",
   "metadata": {},
   "source": [
    "**Due by Friday, Nov 29**\n",
    "\n",
    "\n",
    "\n",
    "**Due by Friday, Dec 06**\n",
    "\n",
    "\n",
    "\n",
    "**Due by Friday, Dec 13**\n",
    "\n",
    "\n",
    "\n",
    "**Due by Friday, Dec 20 - Project deadline**\n",
    "- to hand in: data story in a platform of your choice (e.g., a blog post, or directly in GitHub), plus the final notebook (continuation of milestone 2).\n",
    "\n",
    "\n",
    "**Due by Monday, Jan 20 - Poster presentation**\n",
    "\n"
   ]
  },
  {
   "cell_type": "markdown",
   "metadata": {},
   "source": [
    "# update readme!!!"
   ]
  },
  {
   "cell_type": "code",
   "execution_count": null,
   "metadata": {},
   "outputs": [],
   "source": []
  }
 ],
 "metadata": {
  "kernelspec": {
   "display_name": "Python 3",
   "language": "python",
   "name": "python3"
  },
  "language_info": {
   "codemirror_mode": {
    "name": "ipython",
    "version": 3
   },
   "file_extension": ".py",
   "mimetype": "text/x-python",
   "name": "python",
   "nbconvert_exporter": "python",
   "pygments_lexer": "ipython3",
   "version": "3.6.8"
  }
 },
 "nbformat": 4,
 "nbformat_minor": 2
}
